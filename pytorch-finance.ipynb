{
 "cells": [
  {
   "cell_type": "markdown",
   "metadata": {},
   "source": [
    "# Get Data"
   ]
  },
  {
   "cell_type": "code",
   "execution_count": 1,
   "metadata": {},
   "outputs": [],
   "source": [
    "import pandas as pd\n",
    "import numpy as np\n",
    "import torch\n",
    "from sklearn.preprocessing import MinMaxScaler\n",
    "from torch.utils.data import Dataset, DataLoader\n",
    "\n",
    "stock_name = \"A\"\n",
    "df = pd.read_csv(\n",
    "    \"stocks/{}.csv\".format(stock_name),\n",
    "    index_col=\"Date\",\n",
    "    parse_dates=True\n",
    ")\n",
    "\n",
    "train_size = int(0.67 * df.index.size)\n",
    "scaler = MinMaxScaler(feature_range=(0,1))\n",
    "data = scaler.fit_transform(df)\n",
    "\n",
    "X = []\n",
    "y = []\n",
    "\n",
    "num_window = 20\n",
    "idx = 0\n",
    "\n",
    "for idx in range(len(data)-num_window):\n",
    "    X.append(data[idx:idx+num_window,:])\n",
    "    y.append(data[idx+num_window,:])\n",
    "    \n",
    "X = torch.tensor(np.array(X), requires_grad=True, dtype=torch.float64).view(-1, num_window, df.columns.size)\n",
    "y = torch.tensor(np.array(y), requires_grad=True, dtype=torch.float64).view(-1, 1, df.columns.size)\n",
    "\n",
    "X_train, X_test = X[:train_size], X[train_size:]\n",
    "y_train, y_test = y[:train_size], y[train_size:]"
   ]
  },
  {
   "cell_type": "code",
   "execution_count": 2,
   "metadata": {},
   "outputs": [],
   "source": [
    "class Data(Dataset):\n",
    "    def __init__(self, x, y):\n",
    "        super(Data, self).__init__()\n",
    "        self.x = x \n",
    "        self.y = y\n",
    "        self.len = x.shape[0]\n",
    "    def __getitem__(self, idx):\n",
    "        return self.x[idx], self.y[idx]\n",
    "    def __len__(self):\n",
    "        return self.len\n"
   ]
  },
  {
   "cell_type": "code",
   "execution_count": 3,
   "metadata": {},
   "outputs": [],
   "source": [
    "data_train = Data(X_train, y_train)\n",
    "data_test = Data(X_test, y_test)\n",
    "\n",
    "train_loader = DataLoader(data_train, batch_size=100)\n",
    "test_loader = DataLoader(data_test, batch_size=100)"
   ]
  },
  {
   "cell_type": "markdown",
   "metadata": {},
   "source": [
    "# Define Model"
   ]
  },
  {
   "cell_type": "code",
   "execution_count": 32,
   "metadata": {},
   "outputs": [],
   "source": [
    "from torch import nn, optim\n",
    "\n",
    "class LSTMModel(nn.Module):\n",
    "    def __init__(self, input_size, hidden_size, num_layers, out_features):\n",
    "        super(LSTMModel, self).__init__()\n",
    "        self.h0 = torch.zeros(num_layers, X_train.size(1),  hidden_size, dtype=torch.float64)\n",
    "        self.c0 = torch.zeros(num_layers, X_train.size(1),  hidden_size, dtype=torch.float64)\n",
    "\n",
    "        self.lstm = nn.LSTM(\n",
    "            input_size=input_size\n",
    "            , hidden_size=hidden_size\n",
    "            , num_layers=num_layers\n",
    "            , dtype=torch.float64\n",
    "            , bias=True\n",
    "        )\n",
    "        self.linear = nn.Linear(\n",
    "            in_features=hidden_size\n",
    "            , out_features=out_features\n",
    "            , dtype=torch.float64\n",
    "        )\n",
    "\n",
    "\n",
    "    def forward(self, activation):\n",
    "        activation, (hn, cn) = self.lstm(activation, (self.h0.detach(), self.c0.detach()))\n",
    "        activation = self.linear(activation)\n",
    "        activation = activation[:, -1, :].view(-1, 1, out_features)\n",
    "        return activation#, (hn, cn)\n",
    "    \n",
    "input_size=X_train.size(-1)\n",
    "hidden_size=16\n",
    "num_layers=1\n",
    "out_features=6\n",
    "model = LSTMModel(input_size, hidden_size, num_layers, out_features)"
   ]
  },
  {
   "cell_type": "markdown",
   "metadata": {},
   "source": [
    "# Train Test Loop"
   ]
  },
  {
   "cell_type": "code",
   "execution_count": 33,
   "metadata": {},
   "outputs": [],
   "source": [
    "learning_rate = 0.001\n",
    "num_epochs = 100\n",
    "criterion = nn.MSELoss()\n",
    "optimizer = optim.Adam(\n",
    "    model.parameters(),\n",
    "    lr=learning_rate\n",
    ")"
   ]
  },
  {
   "cell_type": "code",
   "execution_count": 34,
   "metadata": {},
   "outputs": [
    {
     "name": "stdout",
     "output_type": "stream",
     "text": [
      "Epoch 0: train RMSE 0.0811, test RMSE 0.2175\n",
      "Epoch 10: train RMSE 0.0245, test RMSE 0.0315\n",
      "Epoch 20: train RMSE 0.0228, test RMSE 0.0322\n",
      "Epoch 30: train RMSE 0.0196, test RMSE 0.0264\n",
      "Epoch 40: train RMSE 0.0188, test RMSE 0.0251\n",
      "Epoch 50: train RMSE 0.0182, test RMSE 0.0210\n",
      "Epoch 60: train RMSE 0.0181, test RMSE 0.0218\n",
      "Epoch 70: train RMSE 0.0200, test RMSE 0.0458\n",
      "Epoch 80: train RMSE 0.0219, test RMSE 0.0248\n",
      "Epoch 90: train RMSE 0.0189, test RMSE 0.0260\n"
     ]
    }
   ],
   "source": [
    "for epoch in range(num_epochs):\n",
    "    model.train()\n",
    "    for X_batch, y_batch in train_loader:\n",
    "        y_pred = model(X_batch)\n",
    "        loss = criterion(y_pred, y_batch)\n",
    "        optimizer.zero_grad()\n",
    "        loss.backward()\n",
    "        optimizer.step()\n",
    "    if epoch % 10 != 0:\n",
    "        continue\n",
    "    model.eval()\n",
    "    with torch.no_grad():\n",
    "        y_pred = model(X_train)\n",
    "        train_rmse = np.sqrt(criterion(y_pred, y_train))\n",
    "        y_pred = model(X_test)\n",
    "        test_rmse = np.sqrt(criterion(y_pred, y_test))\n",
    "    print(\"Epoch %d: train RMSE %.4f, test RMSE %.4f\" % (epoch, train_rmse, test_rmse))"
   ]
  },
  {
   "cell_type": "code",
   "execution_count": 31,
   "metadata": {},
   "outputs": [
    {
     "data": {
      "text/plain": [
       "28.54562683636425"
      ]
     },
     "execution_count": 31,
     "metadata": {},
     "output_type": "execute_result"
    }
   ],
   "source": [
    "scaler.inverse_transform(model(X_train[0].view(1, -1, 6))[0].detach().numpy())[0][0]"
   ]
  },
  {
   "cell_type": "code",
   "execution_count": 18,
   "metadata": {},
   "outputs": [
    {
     "data": {
      "text/plain": [
       "33.17238998413086"
      ]
     },
     "execution_count": 18,
     "metadata": {},
     "output_type": "execute_result"
    }
   ],
   "source": [
    "scaler.inverse_transform(y_train[0].detach().numpy())[0][0]"
   ]
  },
  {
   "cell_type": "code",
   "execution_count": null,
   "metadata": {},
   "outputs": [],
   "source": []
  },
  {
   "cell_type": "code",
   "execution_count": null,
   "metadata": {},
   "outputs": [],
   "source": []
  },
  {
   "cell_type": "code",
   "execution_count": null,
   "metadata": {},
   "outputs": [],
   "source": [
    "import matplotlib.pyplot as plt "
   ]
  },
  {
   "cell_type": "code",
   "execution_count": null,
   "metadata": {},
   "outputs": [],
   "source": []
  },
  {
   "cell_type": "code",
   "execution_count": null,
   "metadata": {},
   "outputs": [],
   "source": []
  },
  {
   "cell_type": "code",
   "execution_count": null,
   "metadata": {},
   "outputs": [],
   "source": []
  }
 ],
 "metadata": {
  "kernelspec": {
   "display_name": ".venv",
   "language": "python",
   "name": "python3"
  },
  "language_info": {
   "codemirror_mode": {
    "name": "ipython",
    "version": 3
   },
   "file_extension": ".py",
   "mimetype": "text/x-python",
   "name": "python",
   "nbconvert_exporter": "python",
   "pygments_lexer": "ipython3",
   "version": "3.8.18"
  }
 },
 "nbformat": 4,
 "nbformat_minor": 2
}
